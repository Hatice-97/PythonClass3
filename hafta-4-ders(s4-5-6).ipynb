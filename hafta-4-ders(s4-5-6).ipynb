{
  "cells": [
    {
      "metadata": {
        "trusted": true
      },
      "cell_type": "code",
      "source": "dict={'marka':'toyota','yıl':2016}\nprint(\"marka:%s\"% dict.get('Yıl'))\nprint ('value:%s'% dict.get('servis',\"mevcut değil\"))",
      "execution_count": 1,
      "outputs": [
        {
          "output_type": "stream",
          "text": "marka:None\nvalue:mevcut değil\n",
          "name": "stdout"
        }
      ]
    },
    {
      "metadata": {
        "trusted": true
      },
      "cell_type": "code",
      "source": "import pandas as pd",
      "execution_count": 2,
      "outputs": []
    },
    {
      "metadata": {
        "trusted": true
      },
      "cell_type": "code",
      "source": "import random",
      "execution_count": 3,
      "outputs": []
    },
    {
      "metadata": {
        "trusted": true
      },
      "cell_type": "code",
      "source": "for i in range(10):\n    print(random.randint(1,15))",
      "execution_count": 4,
      "outputs": [
        {
          "output_type": "stream",
          "text": "15\n3\n4\n12\n10\n9\n6\n11\n13\n5\n",
          "name": "stdout"
        }
      ]
    },
    {
      "metadata": {
        "trusted": true
      },
      "cell_type": "code",
      "source": "pd.__version__",
      "execution_count": 5,
      "outputs": [
        {
          "output_type": "execute_result",
          "execution_count": 5,
          "data": {
            "text/plain": "'0.23.4'"
          },
          "metadata": {}
        }
      ]
    },
    {
      "metadata": {
        "trusted": true
      },
      "cell_type": "code",
      "source": "pd.show_version()",
      "execution_count": 6,
      "outputs": [
        {
          "output_type": "error",
          "ename": "AttributeError",
          "evalue": "module 'pandas' has no attribute 'show_version'",
          "traceback": [
            "\u001b[0;31m---------------------------------------------------------------------------\u001b[0m",
            "\u001b[0;31mAttributeError\u001b[0m                            Traceback (most recent call last)",
            "\u001b[0;32m<ipython-input-6-42b2ee391476>\u001b[0m in \u001b[0;36m<module>\u001b[0;34m\u001b[0m\n\u001b[0;32m----> 1\u001b[0;31m \u001b[0mpd\u001b[0m\u001b[0;34m.\u001b[0m\u001b[0mshow_version\u001b[0m\u001b[0;34m(\u001b[0m\u001b[0;34m)\u001b[0m\u001b[0;34m\u001b[0m\u001b[0m\n\u001b[0m",
            "\u001b[0;31mAttributeError\u001b[0m: module 'pandas' has no attribute 'show_version'"
          ]
        }
      ]
    },
    {
      "metadata": {
        "trusted": true
      },
      "cell_type": "code",
      "source": "pd.show_versions()",
      "execution_count": 7,
      "outputs": [
        {
          "output_type": "stream",
          "text": "\nINSTALLED VERSIONS\n------------------\ncommit: None\npython: 3.6.6.final.0\npython-bits: 64\nOS: Linux\nOS-release: 4.14.29-linuxkit\nmachine: x86_64\nprocessor: x86_64\nbyteorder: little\nLC_ALL: None\nLANG: en_US.UTF-8\nLOCALE: en_US.UTF-8\n\npandas: 0.23.4\npytest: 3.8.2\npip: 19.3.1\nsetuptools: 41.6.0\nCython: 0.29.14\nnumpy: 1.16.2\nscipy: 1.1.0\npyarrow: 0.13.0\nxarray: None\nIPython: 7.1.1\nsphinx: 1.8.1\npatsy: 0.5.1\ndateutil: 2.8.1\npytz: 2019.3\nblosc: None\nbottleneck: 1.2.1\ntables: 3.4.4\nnumexpr: 2.6.8\nfeather: None\nmatplotlib: 3.0.0\nopenpyxl: 2.5.8\nxlrd: 1.1.0\nxlwt: 1.3.0\nxlsxwriter: 1.1.1\nlxml: 4.2.5\nbs4: 4.6.3\nhtml5lib: 0.9999999\nsqlalchemy: 1.2.14\npymysql: 0.9.2\npsycopg2: 2.7.5 (dt dec pq3 ext lo64)\njinja2: 2.10\ns3fs: None\nfastparquet: None\npandas_gbq: None\npandas_datareader: None\n",
          "name": "stdout"
        }
      ]
    },
    {
      "metadata": {
        "trusted": true
      },
      "cell_type": "code",
      "source": "#seri=pd.Series([data],index=[index])\nsayilar=pd.Series([0,1,4,9,16,25,36,49],name='Sayi Kareleri')\nprint(sayilar)",
      "execution_count": 8,
      "outputs": [
        {
          "output_type": "stream",
          "text": "0     0\n1     1\n2     4\n3     9\n4    16\n5    25\n6    36\n7    49\nName: Sayi Kareleri, dtype: int64\n",
          "name": "stdout"
        }
      ]
    },
    {
      "metadata": {
        "trusted": true
      },
      "cell_type": "code",
      "source": "okyanus_derinlik=pd.Series([1205,3646,3741,4080],index=['kuzey denizi','atlas','hint','pasifik'])\nprint(okyanus_derinlik)",
      "execution_count": 9,
      "outputs": [
        {
          "output_type": "stream",
          "text": "kuzey denizi    1205\natlas           3646\nhint            3741\npasifik         4080\ndtype: int64\n",
          "name": "stdout"
        }
      ]
    },
    {
      "metadata": {
        "trusted": true
      },
      "cell_type": "code",
      "source": "print(okyanus_derinlik[2])",
      "execution_count": 10,
      "outputs": [
        {
          "output_type": "stream",
          "text": "3741\n",
          "name": "stdout"
        }
      ]
    },
    {
      "metadata": {
        "trusted": true
      },
      "cell_type": "code",
      "source": "print(okyanus_derinlik[0.3])",
      "execution_count": 11,
      "outputs": [
        {
          "output_type": "error",
          "ename": "TypeError",
          "evalue": "cannot do label indexing on <class 'pandas.core.indexes.base.Index'> with these indexers [0.3] of <class 'float'>",
          "traceback": [
            "\u001b[0;31m---------------------------------------------------------------------------\u001b[0m",
            "\u001b[0;31mTypeError\u001b[0m                                 Traceback (most recent call last)",
            "\u001b[0;32m<ipython-input-11-1b7ae1b7333e>\u001b[0m in \u001b[0;36m<module>\u001b[0;34m\u001b[0m\n\u001b[0;32m----> 1\u001b[0;31m \u001b[0mprint\u001b[0m\u001b[0;34m(\u001b[0m\u001b[0mokyanus_derinlik\u001b[0m\u001b[0;34m[\u001b[0m\u001b[0;36m0.3\u001b[0m\u001b[0;34m]\u001b[0m\u001b[0;34m)\u001b[0m\u001b[0;34m\u001b[0m\u001b[0m\n\u001b[0m",
            "\u001b[0;32m~/anaconda3_501/lib/python3.6/site-packages/pandas/core/series.py\u001b[0m in \u001b[0;36m__getitem__\u001b[0;34m(self, key)\u001b[0m\n\u001b[1;32m    765\u001b[0m         \u001b[0mkey\u001b[0m \u001b[0;34m=\u001b[0m \u001b[0mcom\u001b[0m\u001b[0;34m.\u001b[0m\u001b[0m_apply_if_callable\u001b[0m\u001b[0;34m(\u001b[0m\u001b[0mkey\u001b[0m\u001b[0;34m,\u001b[0m \u001b[0mself\u001b[0m\u001b[0;34m)\u001b[0m\u001b[0;34m\u001b[0m\u001b[0m\n\u001b[1;32m    766\u001b[0m         \u001b[0;32mtry\u001b[0m\u001b[0;34m:\u001b[0m\u001b[0;34m\u001b[0m\u001b[0m\n\u001b[0;32m--> 767\u001b[0;31m             \u001b[0mresult\u001b[0m \u001b[0;34m=\u001b[0m \u001b[0mself\u001b[0m\u001b[0;34m.\u001b[0m\u001b[0mindex\u001b[0m\u001b[0;34m.\u001b[0m\u001b[0mget_value\u001b[0m\u001b[0;34m(\u001b[0m\u001b[0mself\u001b[0m\u001b[0;34m,\u001b[0m \u001b[0mkey\u001b[0m\u001b[0;34m)\u001b[0m\u001b[0;34m\u001b[0m\u001b[0m\n\u001b[0m\u001b[1;32m    768\u001b[0m \u001b[0;34m\u001b[0m\u001b[0m\n\u001b[1;32m    769\u001b[0m             \u001b[0;32mif\u001b[0m \u001b[0;32mnot\u001b[0m \u001b[0mis_scalar\u001b[0m\u001b[0;34m(\u001b[0m\u001b[0mresult\u001b[0m\u001b[0;34m)\u001b[0m\u001b[0;34m:\u001b[0m\u001b[0;34m\u001b[0m\u001b[0m\n",
            "\u001b[0;32m~/anaconda3_501/lib/python3.6/site-packages/pandas/core/indexes/base.py\u001b[0m in \u001b[0;36mget_value\u001b[0;34m(self, series, key)\u001b[0m\n\u001b[1;32m   3113\u001b[0m         \u001b[0mk\u001b[0m \u001b[0;34m=\u001b[0m \u001b[0mcom\u001b[0m\u001b[0;34m.\u001b[0m\u001b[0m_values_from_object\u001b[0m\u001b[0;34m(\u001b[0m\u001b[0mkey\u001b[0m\u001b[0;34m)\u001b[0m\u001b[0;34m\u001b[0m\u001b[0m\n\u001b[1;32m   3114\u001b[0m \u001b[0;34m\u001b[0m\u001b[0m\n\u001b[0;32m-> 3115\u001b[0;31m         \u001b[0mk\u001b[0m \u001b[0;34m=\u001b[0m \u001b[0mself\u001b[0m\u001b[0;34m.\u001b[0m\u001b[0m_convert_scalar_indexer\u001b[0m\u001b[0;34m(\u001b[0m\u001b[0mk\u001b[0m\u001b[0;34m,\u001b[0m \u001b[0mkind\u001b[0m\u001b[0;34m=\u001b[0m\u001b[0;34m'getitem'\u001b[0m\u001b[0;34m)\u001b[0m\u001b[0;34m\u001b[0m\u001b[0m\n\u001b[0m\u001b[1;32m   3116\u001b[0m         \u001b[0;32mtry\u001b[0m\u001b[0;34m:\u001b[0m\u001b[0;34m\u001b[0m\u001b[0m\n\u001b[1;32m   3117\u001b[0m             return self._engine.get_value(s, k,\n",
            "\u001b[0;32m~/anaconda3_501/lib/python3.6/site-packages/pandas/core/indexes/base.py\u001b[0m in \u001b[0;36m_convert_scalar_indexer\u001b[0;34m(self, key, kind)\u001b[0m\n\u001b[1;32m   1661\u001b[0m             \u001b[0;32mif\u001b[0m \u001b[0mkind\u001b[0m \u001b[0;32min\u001b[0m \u001b[0;34m[\u001b[0m\u001b[0;34m'getitem'\u001b[0m\u001b[0;34m,\u001b[0m \u001b[0;34m'ix'\u001b[0m\u001b[0;34m]\u001b[0m \u001b[0;32mand\u001b[0m \u001b[0mis_float\u001b[0m\u001b[0;34m(\u001b[0m\u001b[0mkey\u001b[0m\u001b[0;34m)\u001b[0m\u001b[0;34m:\u001b[0m\u001b[0;34m\u001b[0m\u001b[0m\n\u001b[1;32m   1662\u001b[0m                 \u001b[0;32mif\u001b[0m \u001b[0;32mnot\u001b[0m \u001b[0mself\u001b[0m\u001b[0;34m.\u001b[0m\u001b[0mis_floating\u001b[0m\u001b[0;34m(\u001b[0m\u001b[0;34m)\u001b[0m\u001b[0;34m:\u001b[0m\u001b[0;34m\u001b[0m\u001b[0m\n\u001b[0;32m-> 1663\u001b[0;31m                     \u001b[0;32mreturn\u001b[0m \u001b[0mself\u001b[0m\u001b[0;34m.\u001b[0m\u001b[0m_invalid_indexer\u001b[0m\u001b[0;34m(\u001b[0m\u001b[0;34m'label'\u001b[0m\u001b[0;34m,\u001b[0m \u001b[0mkey\u001b[0m\u001b[0;34m)\u001b[0m\u001b[0;34m\u001b[0m\u001b[0m\n\u001b[0m\u001b[1;32m   1664\u001b[0m \u001b[0;34m\u001b[0m\u001b[0m\n\u001b[1;32m   1665\u001b[0m             \u001b[0;32melif\u001b[0m \u001b[0mkind\u001b[0m \u001b[0;32min\u001b[0m \u001b[0;34m[\u001b[0m\u001b[0;34m'loc'\u001b[0m\u001b[0;34m]\u001b[0m \u001b[0;32mand\u001b[0m \u001b[0mis_float\u001b[0m\u001b[0;34m(\u001b[0m\u001b[0mkey\u001b[0m\u001b[0;34m)\u001b[0m\u001b[0;34m:\u001b[0m\u001b[0;34m\u001b[0m\u001b[0m\n",
            "\u001b[0;32m~/anaconda3_501/lib/python3.6/site-packages/pandas/core/indexes/base.py\u001b[0m in \u001b[0;36m_invalid_indexer\u001b[0;34m(self, form, key)\u001b[0m\n\u001b[1;32m   1861\u001b[0m                         \"indexers [{key}] of {kind}\".format(\n\u001b[1;32m   1862\u001b[0m                             \u001b[0mform\u001b[0m\u001b[0;34m=\u001b[0m\u001b[0mform\u001b[0m\u001b[0;34m,\u001b[0m \u001b[0mklass\u001b[0m\u001b[0;34m=\u001b[0m\u001b[0mtype\u001b[0m\u001b[0;34m(\u001b[0m\u001b[0mself\u001b[0m\u001b[0;34m)\u001b[0m\u001b[0;34m,\u001b[0m \u001b[0mkey\u001b[0m\u001b[0;34m=\u001b[0m\u001b[0mkey\u001b[0m\u001b[0;34m,\u001b[0m\u001b[0;34m\u001b[0m\u001b[0m\n\u001b[0;32m-> 1863\u001b[0;31m                             kind=type(key)))\n\u001b[0m\u001b[1;32m   1864\u001b[0m \u001b[0;34m\u001b[0m\u001b[0m\n\u001b[1;32m   1865\u001b[0m     \u001b[0;32mdef\u001b[0m \u001b[0mget_duplicates\u001b[0m\u001b[0;34m(\u001b[0m\u001b[0mself\u001b[0m\u001b[0;34m)\u001b[0m\u001b[0;34m:\u001b[0m\u001b[0;34m\u001b[0m\u001b[0m\n",
            "\u001b[0;31mTypeError\u001b[0m: cannot do label indexing on <class 'pandas.core.indexes.base.Index'> with these indexers [0.3] of <class 'float'>"
          ]
        }
      ]
    },
    {
      "metadata": {
        "trusted": true
      },
      "cell_type": "code",
      "source": "print(okyanus_derinlik[0:3])",
      "execution_count": 12,
      "outputs": [
        {
          "output_type": "stream",
          "text": "kuzey denizi    1205\natlas           3646\nhint            3741\ndtype: int64\n",
          "name": "stdout"
        }
      ]
    },
    {
      "metadata": {
        "trusted": true
      },
      "cell_type": "code",
      "source": "okyanus_derinlik=pd.Series({'kuzet denizi':1205,'atlas':3646})\nprint(okyanus_derinlik)",
      "execution_count": 13,
      "outputs": [
        {
          "output_type": "stream",
          "text": "kuzet denizi    1205\natlas           3646\ndtype: int64\n",
          "name": "stdout"
        }
      ]
    },
    {
      "metadata": {
        "trusted": true
      },
      "cell_type": "code",
      "source": "max_derinlik = pd.Series({\n                    'Kuzey Denizi': 5567,\n                    'Atlas': 8486,\n                    'Hint': 7906,\n                    'Pasifik': 10803,\n                    'Güney Okyanusu': 7075\n})\nprint\nprint(max_derinlik)\n\nderinlikler = pd.DataFrame({\n                    'ortalama Derinlik (metre)': okyanus_derinlik,\n                    'Maksimum Derinlik (metre)':max_derinlik\n})\n",
      "execution_count": 14,
      "outputs": [
        {
          "output_type": "stream",
          "text": "Kuzey Denizi       5567\nAtlas              8486\nHint               7906\nPasifik           10803\nGüney Okyanusu     7075\ndtype: int64\n",
          "name": "stdout"
        }
      ]
    },
    {
      "metadata": {
        "trusted": true
      },
      "cell_type": "code",
      "source": "okyanus_derinlik = pd.Series({\n                    'Kuzey Denizi': 1205,\n                    'Atlas': 3646,\n                    'Hint': 3741,\n                    'Pasifik': 4080,\n                    'Güney Okyanusu': 3270\n})\n\nprint (okyanus_derinlik)\nprint\n\nmax_derinlik = pd.Series({\n                    'Kuzey Denizi': 5567,\n                    'Atlas': 8486,\n                    'Hint': 7906,\n                    'Pasifik': 10803,\n                    'Güney Okyanusu': 7075\n})\nprint\nprint(max_derinlik)\n\nderinlikler = pd.DataFrame({\n                    'ortalama Derinlik (metre)': okyanus_derinlik,\n                    'Maksimum Derinlik (metre)':max_derinlik\n})\n\nprint\nprint (derinlikler)",
      "execution_count": 15,
      "outputs": [
        {
          "output_type": "stream",
          "text": "Kuzey Denizi      1205\nAtlas             3646\nHint              3741\nPasifik           4080\nGüney Okyanusu    3270\ndtype: int64\nKuzey Denizi       5567\nAtlas              8486\nHint               7906\nPasifik           10803\nGüney Okyanusu     7075\ndtype: int64\n                ortalama Derinlik (metre)  Maksimum Derinlik (metre)\nKuzey Denizi                         1205                       5567\nAtlas                                3646                       8486\nHint                                 3741                       7906\nPasifik                              4080                      10803\nGüney Okyanusu                       3270                       7075\n",
          "name": "stdout"
        }
      ]
    },
    {
      "metadata": {
        "trusted": true
      },
      "cell_type": "code",
      "source": "dates=pd.date_range('20170101',periods=14)\nprint(dates)",
      "execution_count": 16,
      "outputs": [
        {
          "output_type": "stream",
          "text": "DatetimeIndex(['2017-01-01', '2017-01-02', '2017-01-03', '2017-01-04',\n               '2017-01-05', '2017-01-06', '2017-01-07', '2017-01-08',\n               '2017-01-09', '2017-01-10', '2017-01-11', '2017-01-12',\n               '2017-01-13', '2017-01-14'],\n              dtype='datetime64[ns]', freq='D')\n",
          "name": "stdout"
        }
      ]
    },
    {
      "metadata": {
        "trusted": true
      },
      "cell_type": "code",
      "source": "df=pd.read_csv(\"https://raw.githubusercontent.com/yew1eb/DM-Competition-Getting-Started/master/AV-loan-prediction/train.csv\")",
      "execution_count": 17,
      "outputs": []
    },
    {
      "metadata": {
        "trusted": true
      },
      "cell_type": "code",
      "source": "print(df.head(5))",
      "execution_count": 18,
      "outputs": [
        {
          "output_type": "stream",
          "text": "    Loan_ID Gender Married Dependents     Education Self_Employed  \\\n0  LP001002   Male      No          0      Graduate            No   \n1  LP001003   Male     Yes          1      Graduate            No   \n2  LP001005   Male     Yes          0      Graduate           Yes   \n3  LP001006   Male     Yes          0  Not Graduate            No   \n4  LP001008   Male      No          0      Graduate            No   \n\n   ApplicantIncome  CoapplicantIncome  LoanAmount  Loan_Amount_Term  \\\n0             5849                0.0         NaN             360.0   \n1             4583             1508.0       128.0             360.0   \n2             3000                0.0        66.0             360.0   \n3             2583             2358.0       120.0             360.0   \n4             6000                0.0       141.0             360.0   \n\n   Credit_History Property_Area Loan_Status  \n0             1.0         Urban           Y  \n1             1.0         Rural           N  \n2             1.0         Urban           Y  \n3             1.0         Urban           Y  \n4             1.0         Urban           Y  \n",
          "name": "stdout"
        }
      ]
    },
    {
      "metadata": {
        "trusted": true
      },
      "cell_type": "code",
      "source": "print(df.head(4))",
      "execution_count": 19,
      "outputs": [
        {
          "output_type": "stream",
          "text": "    Loan_ID Gender Married Dependents     Education Self_Employed  \\\n0  LP001002   Male      No          0      Graduate            No   \n1  LP001003   Male     Yes          1      Graduate            No   \n2  LP001005   Male     Yes          0      Graduate           Yes   \n3  LP001006   Male     Yes          0  Not Graduate            No   \n\n   ApplicantIncome  CoapplicantIncome  LoanAmount  Loan_Amount_Term  \\\n0             5849                0.0         NaN             360.0   \n1             4583             1508.0       128.0             360.0   \n2             3000                0.0        66.0             360.0   \n3             2583             2358.0       120.0             360.0   \n\n   Credit_History Property_Area Loan_Status  \n0             1.0         Urban           Y  \n1             1.0         Rural           N  \n2             1.0         Urban           Y  \n3             1.0         Urban           Y  \n",
          "name": "stdout"
        }
      ]
    },
    {
      "metadata": {
        "trusted": true
      },
      "cell_type": "code",
      "source": "print(df.head())",
      "execution_count": 20,
      "outputs": [
        {
          "output_type": "stream",
          "text": "    Loan_ID Gender Married Dependents     Education Self_Employed  \\\n0  LP001002   Male      No          0      Graduate            No   \n1  LP001003   Male     Yes          1      Graduate            No   \n2  LP001005   Male     Yes          0      Graduate           Yes   \n3  LP001006   Male     Yes          0  Not Graduate            No   \n4  LP001008   Male      No          0      Graduate            No   \n\n   ApplicantIncome  CoapplicantIncome  LoanAmount  Loan_Amount_Term  \\\n0             5849                0.0         NaN             360.0   \n1             4583             1508.0       128.0             360.0   \n2             3000                0.0        66.0             360.0   \n3             2583             2358.0       120.0             360.0   \n4             6000                0.0       141.0             360.0   \n\n   Credit_History Property_Area Loan_Status  \n0             1.0         Urban           Y  \n1             1.0         Rural           N  \n2             1.0         Urban           Y  \n3             1.0         Urban           Y  \n4             1.0         Urban           Y  \n",
          "name": "stdout"
        }
      ]
    },
    {
      "metadata": {
        "trusted": true
      },
      "cell_type": "code",
      "source": "print(df.head(15))",
      "execution_count": 21,
      "outputs": [
        {
          "output_type": "stream",
          "text": "     Loan_ID Gender Married Dependents     Education Self_Employed  \\\n0   LP001002   Male      No          0      Graduate            No   \n1   LP001003   Male     Yes          1      Graduate            No   \n2   LP001005   Male     Yes          0      Graduate           Yes   \n3   LP001006   Male     Yes          0  Not Graduate            No   \n4   LP001008   Male      No          0      Graduate            No   \n5   LP001011   Male     Yes          2      Graduate           Yes   \n6   LP001013   Male     Yes          0  Not Graduate            No   \n7   LP001014   Male     Yes         3+      Graduate            No   \n8   LP001018   Male     Yes          2      Graduate            No   \n9   LP001020   Male     Yes          1      Graduate            No   \n10  LP001024   Male     Yes          2      Graduate            No   \n11  LP001027   Male     Yes          2      Graduate           NaN   \n12  LP001028   Male     Yes          2      Graduate            No   \n13  LP001029   Male      No          0      Graduate            No   \n14  LP001030   Male     Yes          2      Graduate            No   \n\n    ApplicantIncome  CoapplicantIncome  LoanAmount  Loan_Amount_Term  \\\n0              5849                0.0         NaN             360.0   \n1              4583             1508.0       128.0             360.0   \n2              3000                0.0        66.0             360.0   \n3              2583             2358.0       120.0             360.0   \n4              6000                0.0       141.0             360.0   \n5              5417             4196.0       267.0             360.0   \n6              2333             1516.0        95.0             360.0   \n7              3036             2504.0       158.0             360.0   \n8              4006             1526.0       168.0             360.0   \n9             12841            10968.0       349.0             360.0   \n10             3200              700.0        70.0             360.0   \n11             2500             1840.0       109.0             360.0   \n12             3073             8106.0       200.0             360.0   \n13             1853             2840.0       114.0             360.0   \n14             1299             1086.0        17.0             120.0   \n\n    Credit_History Property_Area Loan_Status  \n0              1.0         Urban           Y  \n1              1.0         Rural           N  \n2              1.0         Urban           Y  \n3              1.0         Urban           Y  \n4              1.0         Urban           Y  \n5              1.0         Urban           Y  \n6              1.0         Urban           Y  \n7              0.0     Semiurban           N  \n8              1.0         Urban           Y  \n9              1.0     Semiurban           N  \n10             1.0         Urban           Y  \n11             1.0         Urban           Y  \n12             1.0         Urban           Y  \n13             1.0         Rural           N  \n14             1.0         Urban           Y  \n",
          "name": "stdout"
        }
      ]
    },
    {
      "metadata": {
        "trusted": true
      },
      "cell_type": "code",
      "source": "print(df)",
      "execution_count": 22,
      "outputs": [
        {
          "output_type": "stream",
          "text": "      Loan_ID  Gender Married Dependents     Education Self_Employed  \\\n0    LP001002    Male      No          0      Graduate            No   \n1    LP001003    Male     Yes          1      Graduate            No   \n2    LP001005    Male     Yes          0      Graduate           Yes   \n3    LP001006    Male     Yes          0  Not Graduate            No   \n4    LP001008    Male      No          0      Graduate            No   \n5    LP001011    Male     Yes          2      Graduate           Yes   \n6    LP001013    Male     Yes          0  Not Graduate            No   \n7    LP001014    Male     Yes         3+      Graduate            No   \n8    LP001018    Male     Yes          2      Graduate            No   \n9    LP001020    Male     Yes          1      Graduate            No   \n10   LP001024    Male     Yes          2      Graduate            No   \n11   LP001027    Male     Yes          2      Graduate           NaN   \n12   LP001028    Male     Yes          2      Graduate            No   \n13   LP001029    Male      No          0      Graduate            No   \n14   LP001030    Male     Yes          2      Graduate            No   \n15   LP001032    Male      No          0      Graduate            No   \n16   LP001034    Male      No          1  Not Graduate            No   \n17   LP001036  Female      No          0      Graduate            No   \n18   LP001038    Male     Yes          0  Not Graduate            No   \n19   LP001041    Male     Yes          0      Graduate           NaN   \n20   LP001043    Male     Yes          0  Not Graduate            No   \n21   LP001046    Male     Yes          1      Graduate            No   \n22   LP001047    Male     Yes          0  Not Graduate            No   \n23   LP001050     NaN     Yes          2  Not Graduate            No   \n24   LP001052    Male     Yes          1      Graduate           NaN   \n25   LP001066    Male     Yes          0      Graduate           Yes   \n26   LP001068    Male     Yes          0      Graduate            No   \n27   LP001073    Male     Yes          2  Not Graduate            No   \n28   LP001086    Male      No          0  Not Graduate            No   \n29   LP001087  Female      No          2      Graduate           NaN   \n..        ...     ...     ...        ...           ...           ...   \n584  LP002911    Male     Yes          1      Graduate            No   \n585  LP002912    Male     Yes          1      Graduate            No   \n586  LP002916    Male     Yes          0      Graduate            No   \n587  LP002917  Female      No          0  Not Graduate            No   \n588  LP002925     NaN      No          0      Graduate            No   \n589  LP002926    Male     Yes          2      Graduate           Yes   \n590  LP002928    Male     Yes          0      Graduate            No   \n591  LP002931    Male     Yes          2      Graduate           Yes   \n592  LP002933     NaN      No         3+      Graduate           Yes   \n593  LP002936    Male     Yes          0      Graduate            No   \n594  LP002938    Male     Yes          0      Graduate           Yes   \n595  LP002940    Male      No          0  Not Graduate            No   \n596  LP002941    Male     Yes          2  Not Graduate           Yes   \n597  LP002943    Male      No        NaN      Graduate            No   \n598  LP002945    Male     Yes          0      Graduate           Yes   \n599  LP002948    Male     Yes          2      Graduate            No   \n600  LP002949  Female      No         3+      Graduate           NaN   \n601  LP002950    Male     Yes          0  Not Graduate           NaN   \n602  LP002953    Male     Yes         3+      Graduate            No   \n603  LP002958    Male      No          0      Graduate            No   \n604  LP002959  Female     Yes          1      Graduate            No   \n605  LP002960    Male     Yes          0  Not Graduate            No   \n606  LP002961    Male     Yes          1      Graduate            No   \n607  LP002964    Male     Yes          2  Not Graduate            No   \n608  LP002974    Male     Yes          0      Graduate            No   \n609  LP002978  Female      No          0      Graduate            No   \n610  LP002979    Male     Yes         3+      Graduate            No   \n611  LP002983    Male     Yes          1      Graduate            No   \n612  LP002984    Male     Yes          2      Graduate            No   \n613  LP002990  Female      No          0      Graduate           Yes   \n\n     ApplicantIncome  CoapplicantIncome  LoanAmount  Loan_Amount_Term  \\\n0               5849                0.0         NaN             360.0   \n1               4583             1508.0       128.0             360.0   \n2               3000                0.0        66.0             360.0   \n3               2583             2358.0       120.0             360.0   \n4               6000                0.0       141.0             360.0   \n5               5417             4196.0       267.0             360.0   \n6               2333             1516.0        95.0             360.0   \n7               3036             2504.0       158.0             360.0   \n8               4006             1526.0       168.0             360.0   \n9              12841            10968.0       349.0             360.0   \n10              3200              700.0        70.0             360.0   \n11              2500             1840.0       109.0             360.0   \n12              3073             8106.0       200.0             360.0   \n13              1853             2840.0       114.0             360.0   \n14              1299             1086.0        17.0             120.0   \n15              4950                0.0       125.0             360.0   \n16              3596                0.0       100.0             240.0   \n17              3510                0.0        76.0             360.0   \n18              4887                0.0       133.0             360.0   \n19              2600             3500.0       115.0               NaN   \n20              7660                0.0       104.0             360.0   \n21              5955             5625.0       315.0             360.0   \n22              2600             1911.0       116.0             360.0   \n23              3365             1917.0       112.0             360.0   \n24              3717             2925.0       151.0             360.0   \n25              9560                0.0       191.0             360.0   \n26              2799             2253.0       122.0             360.0   \n27              4226             1040.0       110.0             360.0   \n28              1442                0.0        35.0             360.0   \n29              3750             2083.0       120.0             360.0   \n..               ...                ...         ...               ...   \n584             2787             1917.0       146.0             360.0   \n585             4283             3000.0       172.0              84.0   \n586             2297             1522.0       104.0             360.0   \n587             2165                0.0        70.0             360.0   \n588             4750                0.0        94.0             360.0   \n589             2726                0.0       106.0             360.0   \n590             3000             3416.0        56.0             180.0   \n591             6000                0.0       205.0             240.0   \n592             9357                0.0       292.0             360.0   \n593             3859             3300.0       142.0             180.0   \n594            16120                0.0       260.0             360.0   \n595             3833                0.0       110.0             360.0   \n596             6383             1000.0       187.0             360.0   \n597             2987                0.0        88.0             360.0   \n598             9963                0.0       180.0             360.0   \n599             5780                0.0       192.0             360.0   \n600              416            41667.0       350.0             180.0   \n601             2894             2792.0       155.0             360.0   \n602             5703                0.0       128.0             360.0   \n603             3676             4301.0       172.0             360.0   \n604            12000                0.0       496.0             360.0   \n605             2400             3800.0         NaN             180.0   \n606             3400             2500.0       173.0             360.0   \n607             3987             1411.0       157.0             360.0   \n608             3232             1950.0       108.0             360.0   \n609             2900                0.0        71.0             360.0   \n610             4106                0.0        40.0             180.0   \n611             8072              240.0       253.0             360.0   \n612             7583                0.0       187.0             360.0   \n613             4583                0.0       133.0             360.0   \n\n     Credit_History Property_Area Loan_Status  \n0               1.0         Urban           Y  \n1               1.0         Rural           N  \n2               1.0         Urban           Y  \n3               1.0         Urban           Y  \n4               1.0         Urban           Y  \n5               1.0         Urban           Y  \n6               1.0         Urban           Y  \n7               0.0     Semiurban           N  \n8               1.0         Urban           Y  \n9               1.0     Semiurban           N  \n10              1.0         Urban           Y  \n11              1.0         Urban           Y  \n12              1.0         Urban           Y  \n13              1.0         Rural           N  \n14              1.0         Urban           Y  \n15              1.0         Urban           Y  \n16              NaN         Urban           Y  \n17              0.0         Urban           N  \n18              1.0         Rural           N  \n19              1.0         Urban           Y  \n20              0.0         Urban           N  \n21              1.0         Urban           Y  \n22              0.0     Semiurban           N  \n23              0.0         Rural           N  \n24              NaN     Semiurban           N  \n25              1.0     Semiurban           Y  \n26              1.0     Semiurban           Y  \n27              1.0         Urban           Y  \n28              1.0         Urban           N  \n29              1.0     Semiurban           Y  \n..              ...           ...         ...  \n584             0.0         Rural           N  \n585             1.0         Rural           N  \n586             1.0         Urban           Y  \n587             1.0     Semiurban           Y  \n588             1.0     Semiurban           Y  \n589             0.0     Semiurban           N  \n590             1.0     Semiurban           Y  \n591             1.0     Semiurban           N  \n592             1.0     Semiurban           Y  \n593             1.0         Rural           Y  \n594             1.0         Urban           Y  \n595             1.0         Rural           Y  \n596             1.0         Rural           N  \n597             0.0     Semiurban           N  \n598             1.0         Rural           Y  \n599             1.0         Urban           Y  \n600             NaN         Urban           N  \n601             1.0         Rural           Y  \n602             1.0         Urban           Y  \n603             1.0         Rural           Y  \n604             1.0     Semiurban           Y  \n605             1.0         Urban           N  \n606             1.0     Semiurban           Y  \n607             1.0         Rural           Y  \n608             1.0         Rural           Y  \n609             1.0         Rural           Y  \n610             1.0         Rural           Y  \n611             1.0         Urban           Y  \n612             1.0         Urban           Y  \n613             0.0     Semiurban           N  \n\n[614 rows x 13 columns]\n",
          "name": "stdout"
        }
      ]
    },
    {
      "metadata": {
        "trusted": true
      },
      "cell_type": "code",
      "source": "print(df.describe())",
      "execution_count": 23,
      "outputs": [
        {
          "output_type": "stream",
          "text": "       ApplicantIncome  CoapplicantIncome  LoanAmount  Loan_Amount_Term  \\\ncount       614.000000         614.000000  592.000000         600.00000   \nmean       5403.459283        1621.245798  146.412162         342.00000   \nstd        6109.041673        2926.248369   85.587325          65.12041   \nmin         150.000000           0.000000    9.000000          12.00000   \n25%        2877.500000           0.000000  100.000000         360.00000   \n50%        3812.500000        1188.500000  128.000000         360.00000   \n75%        5795.000000        2297.250000  168.000000         360.00000   \nmax       81000.000000       41667.000000  700.000000         480.00000   \n\n       Credit_History  \ncount      564.000000  \nmean         0.842199  \nstd          0.364878  \nmin          0.000000  \n25%          1.000000  \n50%          1.000000  \n75%          1.000000  \nmax          1.000000  \n",
          "name": "stdout"
        }
      ]
    },
    {
      "metadata": {
        "trusted": true
      },
      "cell_type": "code",
      "source": "print(df['Property_Area'].value_counts())",
      "execution_count": 24,
      "outputs": [
        {
          "output_type": "stream",
          "text": "Semiurban    233\nUrban        202\nRural        179\nName: Property_Area, dtype: int64\n",
          "name": "stdout"
        }
      ]
    },
    {
      "metadata": {
        "trusted": true
      },
      "cell_type": "code",
      "source": "df['ApplicantIncome'].hist(bins=50)",
      "execution_count": 25,
      "outputs": [
        {
          "output_type": "stream",
          "text": "/home/nbuser/anaconda3_501/lib/python3.6/site-packages/matplotlib/font_manager.py:229: UserWarning: Matplotlib is building the font cache using fc-list. This may take a moment.\n  'Matplotlib is building the font cache using fc-list. '\n",
          "name": "stderr"
        },
        {
          "output_type": "execute_result",
          "execution_count": 25,
          "data": {
            "text/plain": "<matplotlib.axes._subplots.AxesSubplot at 0x7f7e3f5f1668>"
          },
          "metadata": {}
        }
      ]
    },
    {
      "metadata": {
        "trusted": true
      },
      "cell_type": "code",
      "source": "df['ApplicantIncome'].hist(bins=50)\n",
      "execution_count": 26,
      "outputs": [
        {
          "output_type": "execute_result",
          "execution_count": 26,
          "data": {
            "text/plain": "<matplotlib.axes._subplots.AxesSubplot at 0x7f7e3e9ca1d0>"
          },
          "metadata": {}
        },
        {
          "output_type": "display_data",
          "data": {
            "image/png": "[encoded data removed]",
            "text/plain": "<Figure size 432x288 with 1 Axes>"
          },
          "metadata": {
            "needs_background": "light"
          }
        }
      ]
    },
    {
      "metadata": {
        "trusted": true
      },
      "cell_type": "code",
      "source": "print(len(df))\nprint(len)(df.columns))",
      "execution_count": 27,
      "outputs": [
        {
          "output_type": "error",
          "ename": "SyntaxError",
          "evalue": "invalid syntax (<ipython-input-27-952b40158071>, line 2)",
          "traceback": [
            "\u001b[0;36m  File \u001b[0;32m\"<ipython-input-27-952b40158071>\"\u001b[0;36m, line \u001b[0;32m2\u001b[0m\n\u001b[0;31m    print(len)(df.columns))\u001b[0m\n\u001b[0m                          ^\u001b[0m\n\u001b[0;31mSyntaxError\u001b[0m\u001b[0;31m:\u001b[0m invalid syntax\n"
          ]
        }
      ]
    },
    {
      "metadata": {
        "trusted": true
      },
      "cell_type": "code",
      "source": "print (len(df)) #toplam veri sayısı\nprint (len(df.columns)) #toplam sütun sayısı\n",
      "execution_count": 28,
      "outputs": [
        {
          "output_type": "stream",
          "text": "614\n13\n",
          "name": "stdout"
        }
      ]
    }
  ],
  "metadata": {
    "kernelspec": {
      "name": "python36",
      "display_name": "Python 3.6",
      "language": "python"
    },
    "language_info": {
      "mimetype": "text/x-python",
      "nbconvert_exporter": "python",
      "name": "python",
      "pygments_lexer": "ipython3",
      "version": "3.6.6",
      "file_extension": ".py",
      "codemirror_mode": {
        "version": 3,
        "name": "ipython"
      }
    }
  },
  "nbformat": 4,
  "nbformat_minor": 1
}